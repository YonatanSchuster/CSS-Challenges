{
  "nbformat": 4,
  "nbformat_minor": 0,
  "metadata": {
    "colab": {
      "name": "Copy of Linux Objdump Command tutorial",
      "provenance": [],
      "include_colab_link": true
    },
    "kernelspec": {
      "name": "python3",
      "display_name": "Python 3"
    },
    "language_info": {
      "name": "python"
    }
  },
  "cells": [
    {
      "cell_type": "markdown",
      "metadata": {
        "id": "view-in-github",
        "colab_type": "text"
      },
      "source": [
        "<a href=\"https://colab.research.google.com/github/YonatanSchuster/CSS-Challenges/blob/master/Copy_of_Linux_Objdump_Command_tutorial.ipynb\" target=\"_parent\"><img src=\"https://colab.research.google.com/assets/colab-badge.svg\" alt=\"Open In Colab\"/></a>"
      ]
    },
    {
      "cell_type": "markdown",
      "metadata": {
        "id": "mjA9dlEaAV0W"
      },
      "source": [
        "# Linux Objdump Command Examples \n",
        "(Disassemble a Binary File)\n",
        "\n",
        "by Himanshu Arora on September 21, 2012\n",
        "\n",
        "[Link to original post location (The Geek Stuff)](https://www.thegeekstuff.com/2012/09/objdump-examples/)\n",
        "\n",
        "Googl Colab version (with minor modifications) By Yoram Segal April 22, 2021"
      ]
    },
    {
      "cell_type": "markdown",
      "metadata": {
        "id": "QIV6GShDOw-L"
      },
      "source": [
        "### Important note\n",
        "To practice with this notebook,\n",
        "\n",
        " **You must copy this notebook to your local Google Drive.**\n",
        "\n",
        "Use the following notebook Menu command:\n",
        "\n",
        "`File->Save a copy in Drive`"
      ]
    },
    {
      "cell_type": "markdown",
      "metadata": {
        "id": "2y8BP4HrAtNV"
      },
      "source": [
        "##  **Objdump** command\n",
        "Objdump command in Linux is used to provide thorough information on object files. This command is mainly used by the programmers who work on compilers, but still its a very handy tool for **cyber programmers** also when it comes to debugging. In this tutorial, we will understand how to use objdump command through some examples.\n",
        "\n",
        "Basic syntax of objdump is :\n",
        "\n",
        "\n",
        "\n",
        "```\n",
        "$ objdump [options] objfile...\n",
        "```\n",
        "There is a wide range of options available for this command. We will try to cover a good amount of them in this tutorial.\n"
      ]
    },
    {
      "cell_type": "markdown",
      "metadata": {
        "id": "dTvXalKdBJ1U"
      },
      "source": [
        "## Examples\n",
        "\n",
        "The ELF binary file (compiled C code file) of the following C program is used in all the examples mentioned in this article. It name after comilation is **factorial**\n",
        "\n",
        "Run the following code section in order to creat a valide C code"
      ]
    },
    {
      "cell_type": "code",
      "metadata": {
        "id": "Boq2P-Jq96i0",
        "colab": {
          "base_uri": "https://localhost:8080/"
        },
        "outputId": "d59756aa-3941-4146-df88-45b40013b5d9"
      },
      "source": [
        "!echo \"#include<stdio.h>\" > myObjDump.c\n",
        "!echo \" \" >> myObjDump.c\n",
        "!echo \" \" >> myObjDump.c\n",
        "!echo \"int main(void)\" >> myObjDump.c\n",
        "!echo \"{ \" >> myObjDump.c\n",
        "!echo \"    int n = 6; \" >> myObjDump.c\n",
        "!echo \"    float f=1; \" >> myObjDump.c\n",
        "!echo \"    int i = 1; \" >> myObjDump.c\n",
        "!echo \"    for(;i<=n;i++) \" >> myObjDump.c\n",
        "!echo \"        f=f*i; \" >> myObjDump.c\n",
        "!echo \"   printf(\\\"\\n Factorial is : [%f]\\n\\\",f); \" >> myObjDump.c\n",
        "!echo \"   return 0; \" >> myObjDump.c\n",
        "!echo \"} \" >> myObjDump.c\n",
        "!echo \" \" >> myObjDump.c\n",
        "!cat myObjDump.c "
      ],
      "execution_count": null,
      "outputs": [
        {
          "output_type": "stream",
          "text": [
            "#include<stdio.h>\n",
            " \n",
            " \n",
            "int main(void)\n",
            "{ \n",
            "    int n = 6; \n",
            "    float f=1; \n",
            "    int i = 1; \n",
            "    for(;i<=n;i++) \n",
            "        f=f*i; \n",
            "   printf(\"\\n Factorial is : [%f]\\n\",f); \n",
            "   return 0; \n",
            "} \n",
            " \n"
          ],
          "name": "stdout"
        }
      ]
    },
    {
      "cell_type": "markdown",
      "metadata": {
        "id": "z48EDuXaCBSM"
      },
      "source": [
        "Compile the C code in order to create our working file **\"factorial\"**"
      ]
    },
    {
      "cell_type": "code",
      "metadata": {
        "id": "gYIegjr9-41n"
      },
      "source": [
        "!gcc myObjDump.c -o factorial"
      ],
      "execution_count": null,
      "outputs": []
    },
    {
      "cell_type": "markdown",
      "metadata": {
        "id": "-beQ-0lACOsV"
      },
      "source": [
        "Note: The above **factorial** is just a test code that was being used for some other purpose, but I found it simple enough to use for this article."
      ]
    },
    {
      "cell_type": "markdown",
      "metadata": {
        "id": "5Hmgd6BWCiIN"
      },
      "source": [
        "### 1. Display the contents of the overall file header using -f option\n",
        "Consider the following example :"
      ]
    },
    {
      "cell_type": "code",
      "metadata": {
        "id": "HlTZzVAOALNl"
      },
      "source": [
        "!objdump -f factorial"
      ],
      "execution_count": null,
      "outputs": []
    },
    {
      "cell_type": "markdown",
      "metadata": {
        "id": "nh9ZMslbC03t"
      },
      "source": [
        "So we see that the information related to the overall file header was shown in the output.\n",
        "\n",
        "NOTE: The executable format used in the examples is ELF. To know more about it, refer to our article on [ELF file format](https://www.thegeekstuff.com/2012/07/elf-object-file-format/)."
      ]
    },
    {
      "cell_type": "markdown",
      "metadata": {
        "id": "F-8lw6_LDXcl"
      },
      "source": [
        "### 2.Display object format specific file header contents using -p option\n",
        "The following example prints the object file format specific information."
      ]
    },
    {
      "cell_type": "code",
      "metadata": {
        "id": "_Wjm6PNBDnJH"
      },
      "source": [
        "! objdump -p factorial"
      ],
      "execution_count": null,
      "outputs": []
    },
    {
      "cell_type": "markdown",
      "metadata": {
        "id": "jFStXy9GD0Un"
      },
      "source": [
        "### 3. Display the contents of the section headers using -h option\n",
        "\n",
        "There can be various sections in an object file. Information related to them can be printed using -h option.\n",
        "\n",
        "The following examples shows various sections."
      ]
    },
    {
      "cell_type": "code",
      "metadata": {
        "id": "EbM2h5qJEAgm"
      },
      "source": [
        "!objdump -h factorial"
      ],
      "execution_count": null,
      "outputs": []
    },
    {
      "cell_type": "markdown",
      "metadata": {
        "id": "ku8YLwvgEITF"
      },
      "source": [
        "So we see that the information related to all the section headers was printed in the output. \n",
        "\n",
        "In the output above, \n",
        "> **Size** is the size of the loaded section, \n",
        "\n",
        "> **VMA** represents the virtual memory address, \n",
        "\n",
        "> **LMA** represents the logical memory address, \n",
        "\n",
        "> **File** off is this section’s offset from the beginning of the file, \n",
        "\n",
        "> **Algn** represents alignment,\n",
        "\n",
        "> **CONTENTS, ALLOC, LOAD, READONLY, DATA** are flags that represent that a particular section is to be LOADED or is READONLY etc.\n",
        "\n",
        "\n"
      ]
    },
    {
      "cell_type": "markdown",
      "metadata": {
        "id": "YkkvVJd7ENh9"
      },
      "source": [
        "### 4. Display the contents of all headers using -x option\n",
        "\n",
        "Information related to all the headers in the object file can be retrieved using the -x option.\n",
        "\n",
        "The following example displays **all** the sections:"
      ]
    },
    {
      "cell_type": "code",
      "metadata": {
        "id": "ET5SQyCFFrT-"
      },
      "source": [
        "!objdump -x factorial"
      ],
      "execution_count": null,
      "outputs": []
    },
    {
      "cell_type": "markdown",
      "metadata": {
        "id": "PAD3rTvUF6kd"
      },
      "source": [
        "### 5. Display assembler contents of executable sections using -d option\n",
        "\n",
        "Consider the following example. The assembler contents of executable sections (in the object file) are displayed in this output:"
      ]
    },
    {
      "cell_type": "code",
      "metadata": {
        "id": "UsQF61n-GHQH"
      },
      "source": [
        "!objdump -d factorial"
      ],
      "execution_count": null,
      "outputs": []
    },
    {
      "cell_type": "markdown",
      "metadata": {
        "id": "N01LMA2SGQYX"
      },
      "source": [
        "### 6. Display assembler contents of all sections using -D option\n",
        "\n",
        "In case **the assembler contents of all the sections is required** in output, the option -D can be used.\n",
        "\n",
        "Since the output will be very long, you can clipp it page by page but only if you are running this command in a regular Linux terminal and not inside this Google Colab. \n",
        "\n",
        "If you use a regular Linux terminal, you can use the pager command for controlling the output: \n",
        "\n",
        "```\n",
        "# objdump -D factorial | pager\n",
        "```\n",
        "\n",
        "For this google Colab notebook consider the following command :"
      ]
    },
    {
      "cell_type": "code",
      "metadata": {
        "id": "Vpp-dAiZGafe"
      },
      "source": [
        "!objdump -D factorial "
      ],
      "execution_count": null,
      "outputs": []
    },
    {
      "cell_type": "markdown",
      "metadata": {
        "id": "Tw_6RjHKHcV3"
      },
      "source": [
        "### 7. Display the full contents of all sections using -s option\n",
        "\n",
        "Consider the following example :"
      ]
    },
    {
      "cell_type": "code",
      "metadata": {
        "id": "JN3DFWOqI5A_"
      },
      "source": [
        "!objdump -s factorial"
      ],
      "execution_count": null,
      "outputs": []
    },
    {
      "cell_type": "markdown",
      "metadata": {
        "id": "WLE2GGHgJC-Y"
      },
      "source": [
        "So we see that the complete contents for all the sections were displayed in the output."
      ]
    },
    {
      "cell_type": "markdown",
      "metadata": {
        "id": "JONROqrsJI8u"
      },
      "source": [
        "### 8. Display debug information using -g option\n",
        "\n",
        "Consider the following example:"
      ]
    },
    {
      "cell_type": "code",
      "metadata": {
        "id": "jkE0L58VJPSI"
      },
      "source": [
        "!objdump -g factorial"
      ],
      "execution_count": null,
      "outputs": []
    },
    {
      "cell_type": "markdown",
      "metadata": {
        "id": "kvypAfZMJtCn"
      },
      "source": [
        "### 9. Display the contents of symbol table (or tables) using the -t option\n",
        "\n",
        "Consider the following example :"
      ]
    },
    {
      "cell_type": "code",
      "metadata": {
        "id": "eN0_F_7vJyUm"
      },
      "source": [
        "!objdump -t factorial"
      ],
      "execution_count": null,
      "outputs": []
    },
    {
      "cell_type": "markdown",
      "metadata": {
        "id": "Nb94i7ocKBuA"
      },
      "source": [
        "### 10. Display the contents of dynamic symbol table using -T option\n",
        "\n",
        "Dynamic symbols are those which are resolved during run time. The information related to these symbols can be retrieved using the -D option.\n",
        "\n",
        "Consider the following example :"
      ]
    },
    {
      "cell_type": "code",
      "metadata": {
        "id": "Ksel9QatKJAY"
      },
      "source": [
        "! objdump -T factorial"
      ],
      "execution_count": null,
      "outputs": []
    },
    {
      "cell_type": "markdown",
      "metadata": {
        "id": "lJSBM3m9KWOv"
      },
      "source": [
        "### 11. Display the dynamic relocation entries in the file using -R option\n",
        "\n",
        "Consider the following example:"
      ]
    },
    {
      "cell_type": "code",
      "metadata": {
        "id": "DcDywS2NKbgH"
      },
      "source": [
        "!objdump -R factorial"
      ],
      "execution_count": null,
      "outputs": []
    },
    {
      "cell_type": "markdown",
      "metadata": {
        "id": "UECumzbqKnUJ"
      },
      "source": [
        "12. Display section of interest using -j option\n",
        "\n",
        "This is extremely useful when you know the section related to which the information is required. The option -j is used in this case.\n",
        "(For the list of avalible sections see Example 3 above)\n",
        "\n",
        "Consider the following example :"
      ]
    },
    {
      "cell_type": "code",
      "metadata": {
        "id": "Cam8iUd_KpEo"
      },
      "source": [
        "!objdump -s -j.init factorial"
      ],
      "execution_count": null,
      "outputs": []
    },
    {
      "cell_type": "markdown",
      "metadata": {
        "id": "9Gv0T4C_LgiQ"
      },
      "source": [
        "So we see that information related to .init section was displayed above."
      ]
    },
    {
      "cell_type": "markdown",
      "metadata": {
        "id": "pPmBK9XFL3Uh"
      },
      "source": [
        "### 13. Accept input options from a file using @ option\n",
        "\n",
        "If you want, the options to objdump can be read from a file. This can be done using ‘@’ option.\n",
        "\n",
        "Consider the following example :"
      ]
    },
    {
      "cell_type": "code",
      "metadata": {
        "id": "KWkn0S5_MB6S"
      },
      "source": [
        "!objdump -v -i"
      ],
      "execution_count": null,
      "outputs": []
    },
    {
      "cell_type": "markdown",
      "metadata": {
        "id": "td0THhY_MIyv"
      },
      "source": [
        "In this example above, we have used the -v and -i options. While -v is used to print the version information, -i is used to provide supported object formats and architectures.\n",
        "\n",
        "Now let's created a file and add these two options there."
      ]
    },
    {
      "cell_type": "code",
      "metadata": {
        "id": "jVnrjEQSMUEI"
      },
      "source": [
        "!echo \"-v -i\">options.txt\n",
        "!cat options.txt"
      ],
      "execution_count": null,
      "outputs": []
    },
    {
      "cell_type": "markdown",
      "metadata": {
        "id": "Q1JgsyAJMowB"
      },
      "source": [
        "Execute the **objdump** by calling the **options.txt** file as shown below. This displays the same output as above, as it is reading the options from the options.txt file."
      ]
    },
    {
      "cell_type": "code",
      "metadata": {
        "id": "gQq23hYgMxWx"
      },
      "source": [
        "!objdump @options.txt"
      ],
      "execution_count": null,
      "outputs": []
    }
  ]
}